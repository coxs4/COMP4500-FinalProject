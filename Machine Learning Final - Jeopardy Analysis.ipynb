{
 "cells": [
  {
   "cell_type": "code",
   "execution_count": 17,
   "id": "f473252f",
   "metadata": {
    "scrolled": true
   },
   "outputs": [],
   "source": [
    "import urllib.request\n",
    "import gzip\n",
    "import io\n",
    "import json\n",
    "import matplotlib\n",
    "import pandas as pd\n",
    "import numpy as np\n",
    "import matplotlib.pyplot as plt\n",
    "\n",
    "# Step 0: Import data into useable type\n",
    "\n",
    "# URL Location of the Jeopardy Data\n",
    "url_get = \"http://skeeto.s3.amazonaws.com/share/JEOPARDY_QUESTIONS1.json.gz\"\n",
    "\n",
    "# Decompress GZip file into a json String so that we can then turn into a dataframe for easier access\n",
    "with urllib.request.urlopen(url_get) as response:\n",
    "    encoding = response.info().get_param('charset', 'utf8')\n",
    "    compressed_file = io.BytesIO(response.read())\n",
    "    decompressed_file = gzip.decompress(compressed_file.read())\n",
    "    json_str = json.loads(decompressed_file.decode('utf-8'))\n"
   ]
  },
  {
   "cell_type": "code",
   "execution_count": 28,
   "id": "67577c1b",
   "metadata": {},
   "outputs": [
    {
     "data": {
      "text/html": [
       "<div>\n",
       "<style scoped>\n",
       "    .dataframe tbody tr th:only-of-type {\n",
       "        vertical-align: middle;\n",
       "    }\n",
       "\n",
       "    .dataframe tbody tr th {\n",
       "        vertical-align: top;\n",
       "    }\n",
       "\n",
       "    .dataframe thead th {\n",
       "        text-align: right;\n",
       "    }\n",
       "</style>\n",
       "<table border=\"1\" class=\"dataframe\">\n",
       "  <thead>\n",
       "    <tr style=\"text-align: right;\">\n",
       "      <th></th>\n",
       "      <th>category</th>\n",
       "      <th>air_date</th>\n",
       "      <th>question</th>\n",
       "      <th>value</th>\n",
       "      <th>answer</th>\n",
       "      <th>round</th>\n",
       "    </tr>\n",
       "  </thead>\n",
       "  <tbody>\n",
       "    <tr>\n",
       "      <th>84523</th>\n",
       "      <td>LAKES &amp; RIVERS</td>\n",
       "      <td>1984-09-10</td>\n",
       "      <td>'River mentioned most often in the Bible'</td>\n",
       "      <td>100.0</td>\n",
       "      <td>the Jordan</td>\n",
       "      <td>Jeopardy!</td>\n",
       "    </tr>\n",
       "    <tr>\n",
       "      <th>84565</th>\n",
       "      <td>THE BIBLE</td>\n",
       "      <td>1984-09-10</td>\n",
       "      <td>'According to 1st Timothy, it is the \"root of ...</td>\n",
       "      <td>1000.0</td>\n",
       "      <td>the love of money</td>\n",
       "      <td>Double Jeopardy!</td>\n",
       "    </tr>\n",
       "    <tr>\n",
       "      <th>84566</th>\n",
       "      <td>'50'S TV</td>\n",
       "      <td>1984-09-10</td>\n",
       "      <td>'Name under which experimenter Don Herbert tau...</td>\n",
       "      <td>1000.0</td>\n",
       "      <td>Mr. Wizard</td>\n",
       "      <td>Double Jeopardy!</td>\n",
       "    </tr>\n",
       "    <tr>\n",
       "      <th>84567</th>\n",
       "      <td>NATIONAL LANDMARKS</td>\n",
       "      <td>1984-09-10</td>\n",
       "      <td>'D.C. building shaken by November '83 bomb blast'</td>\n",
       "      <td>1000.0</td>\n",
       "      <td>the Capitol</td>\n",
       "      <td>Double Jeopardy!</td>\n",
       "    </tr>\n",
       "    <tr>\n",
       "      <th>84568</th>\n",
       "      <td>NOTORIOUS</td>\n",
       "      <td>1984-09-10</td>\n",
       "      <td>'After the deed, he leaped to the stage shouti...</td>\n",
       "      <td>1000.0</td>\n",
       "      <td>John Wilkes Booth</td>\n",
       "      <td>Double Jeopardy!</td>\n",
       "    </tr>\n",
       "    <tr>\n",
       "      <th>...</th>\n",
       "      <td>...</td>\n",
       "      <td>...</td>\n",
       "      <td>...</td>\n",
       "      <td>...</td>\n",
       "      <td>...</td>\n",
       "      <td>...</td>\n",
       "    </tr>\n",
       "    <tr>\n",
       "      <th>105947</th>\n",
       "      <td>VISITING THE CITY</td>\n",
       "      <td>2012-01-27</td>\n",
       "      <td>'There's a great opera house on Bennelong Poin...</td>\n",
       "      <td>800.0</td>\n",
       "      <td>Sydney</td>\n",
       "      <td>Jeopardy!</td>\n",
       "    </tr>\n",
       "    <tr>\n",
       "      <th>105948</th>\n",
       "      <td>PANTS</td>\n",
       "      <td>2012-01-27</td>\n",
       "      <td>'Tight-fitting pants patterned after those wor...</td>\n",
       "      <td>1400.0</td>\n",
       "      <td>toreador pants</td>\n",
       "      <td>Jeopardy!</td>\n",
       "    </tr>\n",
       "    <tr>\n",
       "      <th>105949</th>\n",
       "      <td>CHILD ACTORS</td>\n",
       "      <td>2012-01-27</td>\n",
       "      <td>'This kid, with a familiar last name, is seen ...</td>\n",
       "      <td>800.0</td>\n",
       "      <td>Jaden Smith</td>\n",
       "      <td>Jeopardy!</td>\n",
       "    </tr>\n",
       "    <tr>\n",
       "      <th>105951</th>\n",
       "      <td>LESSER-KNOWN SCIENTISTS</td>\n",
       "      <td>2012-01-27</td>\n",
       "      <td>'Joseph Lagrange insisted on 10 as the basic u...</td>\n",
       "      <td>800.0</td>\n",
       "      <td>the metric system</td>\n",
       "      <td>Jeopardy!</td>\n",
       "    </tr>\n",
       "    <tr>\n",
       "      <th>105930</th>\n",
       "      <td>PANTS</td>\n",
       "      <td>2012-01-27</td>\n",
       "      <td>'A synonym for freight, or pants with large be...</td>\n",
       "      <td>200.0</td>\n",
       "      <td>cargo pants</td>\n",
       "      <td>Jeopardy!</td>\n",
       "    </tr>\n",
       "  </tbody>\n",
       "</table>\n",
       "<p>216930 rows × 6 columns</p>\n",
       "</div>"
      ],
      "text/plain": [
       "                       category   air_date  \\\n",
       "84523            LAKES & RIVERS 1984-09-10   \n",
       "84565                 THE BIBLE 1984-09-10   \n",
       "84566                  '50'S TV 1984-09-10   \n",
       "84567        NATIONAL LANDMARKS 1984-09-10   \n",
       "84568                 NOTORIOUS 1984-09-10   \n",
       "...                         ...        ...   \n",
       "105947        VISITING THE CITY 2012-01-27   \n",
       "105948                    PANTS 2012-01-27   \n",
       "105949             CHILD ACTORS 2012-01-27   \n",
       "105951  LESSER-KNOWN SCIENTISTS 2012-01-27   \n",
       "105930                    PANTS 2012-01-27   \n",
       "\n",
       "                                                 question   value  \\\n",
       "84523           'River mentioned most often in the Bible'   100.0   \n",
       "84565   'According to 1st Timothy, it is the \"root of ...  1000.0   \n",
       "84566   'Name under which experimenter Don Herbert tau...  1000.0   \n",
       "84567   'D.C. building shaken by November '83 bomb blast'  1000.0   \n",
       "84568   'After the deed, he leaped to the stage shouti...  1000.0   \n",
       "...                                                   ...     ...   \n",
       "105947  'There's a great opera house on Bennelong Poin...   800.0   \n",
       "105948  'Tight-fitting pants patterned after those wor...  1400.0   \n",
       "105949  'This kid, with a familiar last name, is seen ...   800.0   \n",
       "105951  'Joseph Lagrange insisted on 10 as the basic u...   800.0   \n",
       "105930  'A synonym for freight, or pants with large be...   200.0   \n",
       "\n",
       "                   answer             round  \n",
       "84523          the Jordan         Jeopardy!  \n",
       "84565   the love of money  Double Jeopardy!  \n",
       "84566          Mr. Wizard  Double Jeopardy!  \n",
       "84567         the Capitol  Double Jeopardy!  \n",
       "84568   John Wilkes Booth  Double Jeopardy!  \n",
       "...                   ...               ...  \n",
       "105947             Sydney         Jeopardy!  \n",
       "105948     toreador pants         Jeopardy!  \n",
       "105949        Jaden Smith         Jeopardy!  \n",
       "105951  the metric system         Jeopardy!  \n",
       "105930        cargo pants         Jeopardy!  \n",
       "\n",
       "[216930 rows x 6 columns]"
      ]
     },
     "execution_count": 28,
     "metadata": {},
     "output_type": "execute_result"
    }
   ],
   "source": [
    "# Step 1: Clean imported data and prepare for inspection\n",
    "\n",
    "# Pandas has methods to turn JSON objects into Dataframes, so we want to convert our String to JSON Object format\n",
    "questions_dataframe = pd.DataFrame.from_dict(json_str)\n",
    "# We don't care about the show number since we have an air date\n",
    "questions_dataframe.drop('show_number', axis=1, inplace=True)\n",
    "# Some data cleaning is needed to make 'value' only numeric chars. and \n",
    "# dates will be treated as the python type.\n",
    "questions_dataframe['value'] = questions_dataframe['value'].str.replace(\"$\", '')\n",
    "questions_dataframe['value'] = questions_dataframe['value'].str.replace(\",\", '')\n",
    "questions_dataframe['value'] = pd.to_numeric(questions_dataframe['value'])\n",
    "questions_dataframe['air_date'] = pd.to_datetime(questions_dataframe['air_date'])\n",
    "questions_dataframe = questions_dataframe.sort_values(by='air_date')\n",
    "\n",
    "# Print to view clean data\n",
    "questions_dataframe"
   ]
  },
  {
   "cell_type": "code",
   "execution_count": 29,
   "id": "423215da",
   "metadata": {},
   "outputs": [
    {
     "data": {
      "text/plain": [
       "<AxesSubplot:xlabel='air_date'>"
      ]
     },
     "execution_count": 29,
     "metadata": {},
     "output_type": "execute_result"
    },
    {
     "data": {
      "image/png": "[encoded data removed]",
      "text/plain": [
       "<Figure size 432x288 with 1 Axes>"
      ]
     },
     "metadata": {
      "needs_background": "light"
     },
     "output_type": "display_data"
    }
   ],
   "source": [
    "# Plot data with dates across the x-axis and question value on the y-axis\n",
    "questions_dataframe.plot(x=\"air_date\", y=[\"value\"])"
   ]
  },
  {
   "cell_type": "code",
   "execution_count": 34,
   "id": "5f3266b4",
   "metadata": {},
   "outputs": [
    {
     "data": {
      "text/plain": [
       "array(['1984-09-10T00:00:00.000000000', '1984-09-10T00:00:00.000000000',\n",
       "       '1984-09-10T00:00:00.000000000', ...,\n",
       "       '2012-01-27T00:00:00.000000000', '2012-01-27T00:00:00.000000000',\n",
       "       '2012-01-27T00:00:00.000000000'], dtype='datetime64[ns]')"
      ]
     },
     "execution_count": 34,
     "metadata": {},
     "output_type": "execute_result"
    }
   ],
   "source": [
    "question_airing = questions_dataframe.iloc[:, 1].values\n",
    "question_values = questions_dataframe.iloc[:, 3].values\n",
    "question_airing"
   ]
  },
  {
   "cell_type": "code",
   "execution_count": null,
   "id": "75ea270c",
   "metadata": {},
   "outputs": [],
   "source": []
  }
 ],
 "metadata": {
  "kernelspec": {
   "display_name": "Python 3",
   "language": "python",
   "name": "python3"
  },
  "language_info": {
   "codemirror_mode": {
    "name": "ipython",
    "version": 3
   },
   "file_extension": ".py",
   "mimetype": "text/x-python",
   "name": "python",
   "nbconvert_exporter": "python",
   "pygments_lexer": "ipython3",
   "version": "3.7.0"
  }
 },
 "nbformat": 4,
 "nbformat_minor": 5
}
